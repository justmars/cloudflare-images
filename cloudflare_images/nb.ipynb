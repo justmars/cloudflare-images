{
 "cells": [
  {
   "cell_type": "code",
   "execution_count": 1,
   "metadata": {},
   "outputs": [
    {
     "data": {
      "text/plain": [
       "{'result': {'count': {'current': 111, 'allowed': 100000}},\n",
       " 'success': True,\n",
       " 'errors': [],\n",
       " 'messages': []}"
      ]
     },
     "execution_count": 1,
     "metadata": {},
     "output_type": "execute_result"
    },
    {
     "name": "stderr",
     "output_type": "stream",
     "text": [
      "Executing <Task pending name='Task-4' coro=<Kernel.dispatch_queue() running at /Users/mv/Code/cloudflare-images/.venv/lib/python3.11/site-packages/ipykernel/kernelbase.py:516> wait_for=<Future pending cb=[Task.task_wakeup()] created at /Users/mv/Code/cloudflare-images/.venv/lib/python3.11/site-packages/tornado/queues.py:248> cb=[IOLoop.add_future.<locals>.<lambda>() at /Users/mv/Code/cloudflare-images/.venv/lib/python3.11/site-packages/tornado/ioloop.py:685] created at /Users/mv/.pyenv/versions/3.11.4/lib/python3.11/asyncio/tasks.py:670> took 0.972 seconds\n"
     ]
    }
   ],
   "source": [
    "\n",
    "from cloudflare_images import *\n",
    "\n",
    "# get the batch token\n",
    "cf = CloudflareImagesAPI()\n",
    "res = cf.get_usage_statistics()\n",
    "data = res.json()\n",
    "data"
   ]
  }
 ],
 "metadata": {
  "kernelspec": {
   "display_name": ".venv",
   "language": "python",
   "name": "python3"
  },
  "language_info": {
   "codemirror_mode": {
    "name": "ipython",
    "version": 3
   },
   "file_extension": ".py",
   "mimetype": "text/x-python",
   "name": "python",
   "nbconvert_exporter": "python",
   "pygments_lexer": "ipython3",
   "version": "3.11.4"
  },
  "orig_nbformat": 4
 },
 "nbformat": 4,
 "nbformat_minor": 2
}
